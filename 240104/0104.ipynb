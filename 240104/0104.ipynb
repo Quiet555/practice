{
 "cells": [
  {
   "cell_type": "code",
   "execution_count": 43,
   "id": "28208555",
   "metadata": {},
   "outputs": [
    {
     "name": "stdout",
     "output_type": "stream",
     "text": [
      "[('李', 6), ('陳', 5), ('黃', 4)]\n",
      "李:6\n",
      "陳:5\n",
      "黃:4\n"
     ]
    }
   ],
   "source": [
    "namestr = '''\n",
    "沈慧茹, 楊建安, 曹孟君, 柳怡臻, 游恒臻, 鄭惠麟, 馬京州, 賴俊航, 陳哲嘉, 林奇福, \n",
    "周思潔, 黃思穎, 陳興汝, 李萬云, 李宜沛, 翁伯舜, 李婉峰, 陳佳旭, 倪翊原, 蔡淑霞, \n",
    "羅欣怡, 李松禎, 林中利, 李尚正, 陳怡孜, 黃國凱, 陳俊芳, 楊于婷, 吳阿鳳, 王兆亨, \n",
    "李天林, 方鈺婷, 林敏天, 黃語睿, 趙家賢, 吳逸凡, 趙志文, 周美慧, 吳欣妃, 張綠桂, \n",
    "羅妤為, 張惠敏, 沙麗娟, 徐亮育, 方彥廷, 顏家瑋, 黃貴倩, 張嘉妃, 葉珈嘉, 顏琪仰'''\n",
    "\n",
    "names = namestr.replace(',', '').split()\n",
    "names.sort()\n",
    "dct_name = {}\n",
    "count=0\n",
    "\n",
    "for name in names:\n",
    "    if dct_name.get(name[0]):\n",
    "        count+=1\n",
    "        dct_name[name[0]]=count\n",
    "    else:\n",
    "        count=1\n",
    "        dct_name[name[0]]=count\n",
    "        \n",
    "name_order = sorted(dct_name.items(),key=lambda x:x[1],reverse=True)\n",
    "\n",
    "for i in range(3):\n",
    "    print(f'{name_order[i][0]}:{name_order[i][1]}')"
   ]
  },
  {
   "cell_type": "code",
   "execution_count": 55,
   "id": "9afa0e4c",
   "metadata": {},
   "outputs": [
    {
     "name": "stdout",
     "output_type": "stream",
     "text": [
      "淑貞:21\n",
      "俊諺:15\n",
      "淑芬:14\n",
      "俊銘:14\n",
      "佳雯:14\n",
      "雯婷:13\n",
      "佳雄:13\n",
      "怡欣:12\n",
      "雅晴:12\n",
      "佳芳:12\n"
     ]
    }
   ],
   "source": [
    "fname='names-10000.txt'\n",
    "with open(fname, \"r\") as fp:\n",
    "    names=fp.read()\n",
    "names = names.replace(',', '').split()\n",
    "#print(names)\n",
    "names.sort()\n",
    "dct_name = {}\n",
    "count=0\n",
    "\n",
    "for name in names:\n",
    "    if dct_name.get(name[1:]):\n",
    "        count+=1\n",
    "        dct_name[name[1:]]=count\n",
    "    else:\n",
    "        count=1\n",
    "        dct_name[name[1:]]=count\n",
    "        \n",
    "name_order = sorted(dct_name.items(),key=lambda x:x[1:],reverse=True)\n",
    "\n",
    "for i in range(10):\n",
    "    print(f'{name_order[i][0]}:{name_order[i][1]}')"
   ]
  }
 ],
 "metadata": {
  "kernelspec": {
   "display_name": "Python 3",
   "language": "python",
   "name": "python3"
  },
  "language_info": {
   "codemirror_mode": {
    "name": "ipython",
    "version": 3
   },
   "file_extension": ".py",
   "mimetype": "text/x-python",
   "name": "python",
   "nbconvert_exporter": "python",
   "pygments_lexer": "ipython3",
   "version": "3.8.8"
  }
 },
 "nbformat": 4,
 "nbformat_minor": 5
}
