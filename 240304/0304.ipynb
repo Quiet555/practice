{
 "cells": [
  {
   "cell_type": "code",
   "execution_count": 4,
   "id": "eb5ec35f-1704-486a-b05e-45906d556ec2",
   "metadata": {},
   "outputs": [
    {
     "name": "stdin",
     "output_type": "stream",
     "text": [
      "輸入a 3\n",
      "輸入b 2\n"
     ]
    },
    {
     "name": "stdout",
     "output_type": "stream",
     "text": [
      "3 + 2 = 5\n",
      "3 - 2 = 1\n",
      "3 * 2 = 6\n",
      "3 / 2 = 1.5\n",
      "3 // 2 = 1\n",
      "3 % 2 = 1\n",
      "3**2 = 9\n"
     ]
    }
   ],
   "source": [
    "a = int(input('輸入a'))\n",
    "b = int(input('輸入b'))\n",
    "print(f'{a} + {b} = {a+b}')\n",
    "print(f'{a} - {b} = {a-b}')\n",
    "print(f'{a} * {b} = {a*b}')\n",
    "print(f'{a} / {b} = {a/b}')\n",
    "print(f'{a} // {b} = {a//b}')\n",
    "print(f'{a} % {b} = {a%b}')\n",
    "print(f'{a}**{b} = {a**b}')"
   ]
  },
  {
   "cell_type": "code",
   "execution_count": 3,
   "id": "d4f072be-32fb-4d12-b0d5-0b6559974b9e",
   "metadata": {},
   "outputs": [
    {
     "name": "stdin",
     "output_type": "stream",
     "text": [
      "輸入身高(cm): 163\n",
      "輸入體重(kg) 45\n"
     ]
    },
    {
     "name": "stdout",
     "output_type": "stream",
     "text": [
      "身高(cm):163\n",
      "體重(kg):45\n",
      "BMI = 16.937031879257784\n"
     ]
    }
   ],
   "source": [
    "hig = int(input('輸入身高(cm):'))\n",
    "weg = int(input('輸入體重(kg)'))\n",
    "BMI = weg /((hig/100)**2)\n",
    "\n",
    "print(f'身高(cm):{hig}')\n",
    "print(f'體重(kg):{weg}')\n",
    "print(f'BMI = {BMI}')"
   ]
  },
  {
   "cell_type": "markdown",
   "id": "f70cb49d-f4b2-448c-b624-477d8df9e71d",
   "metadata": {},
   "source": [
    "$$ ax^2 + bx + c = 0 $$\n",
    "$$ 身體質量指數BMI = \\frac{體重(kg)}{身高^2(m^2)} $$"
   ]
  }
 ],
 "metadata": {
  "kernelspec": {
   "display_name": "Python 3 (ipykernel)",
   "language": "python",
   "name": "python3"
  },
  "language_info": {
   "codemirror_mode": {
    "name": "ipython",
    "version": 3
   },
   "file_extension": ".py",
   "mimetype": "text/x-python",
   "name": "python",
   "nbconvert_exporter": "python",
   "pygments_lexer": "ipython3",
   "version": "3.8.18"
  }
 },
 "nbformat": 4,
 "nbformat_minor": 5
}
