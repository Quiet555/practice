{
 "cells": [
  {
   "cell_type": "code",
   "execution_count": 84,
   "id": "a30c1d13",
   "metadata": {},
   "outputs": [
    {
     "name": "stdout",
     "output_type": "stream",
     "text": [
      "請輸入年分(民國):113\n",
      "民國113的感恩節為11月28號\n"
     ]
    }
   ],
   "source": [
    "import datetime\n",
    "\n",
    "Tyear=int(input(\"請輸入年分(民國):\"))\n",
    "year=Tyear+1911                           #11月的第四個星期四\n",
    "\n",
    "tgd=datetime.datetime(year,11,1)\n",
    "x=tgd.weekday()\n",
    "week=[1,2,3,4,5,6,7]\n",
    "dw=datetime.timedelta(weeks=1)\n",
    "dd=datetime.timedelta(days=1)\n",
    "if week[x]==4:\n",
    "    tgdn=tgd+dw*3\n",
    "else:\n",
    "    while(week[tgd.weekday()]!=4):\n",
    "        tgd+=dd\n",
    "    tgdn=tgd+dw*3\n",
    "\n",
    "print(f'民國{Tyear}的感恩節為{tgdn.month}月{tgdn.day}號')"
   ]
  },
  {
   "cell_type": "code",
   "execution_count": 126,
   "id": "76b47ecb",
   "metadata": {},
   "outputs": [
    {
     "name": "stdout",
     "output_type": "stream",
     "text": [
      "1.天:9\n",
      "2.無:9\n",
      "3.一:8\n",
      "4.人:8\n",
      "5.春:8\n",
      "6.生:8\n"
     ]
    }
   ],
   "source": [
    "fname='長恨歌.txt'\n",
    "with open(fname, \"r\",encoding=\"utf-8\") as fp:\n",
    "    poem=fp.read()\n",
    "poem=poem.replace('，', '')\n",
    "poem=poem.replace('。', '')\n",
    "poem=poem.replace('\\n', '')\n",
    "dct_word = {}\n",
    "count=0\n",
    "poemlst=[str(i) for i in poem]\n",
    "poemlst.sort()\n",
    "\n",
    "#print(poemlst)\n",
    "for word in poemlst:\n",
    "    if dct_word.get(word):\n",
    "        count+=1\n",
    "        dct_word[word]=count\n",
    "    else:\n",
    "        count=1\n",
    "        dct_word[word]=count\n",
    "        \n",
    "word_order = sorted(dct_word.items(),key=lambda x:x[1],reverse=True)\n",
    "\n",
    "num=6+1\n",
    "for k in range(6,len(poemlst)):\n",
    "    if word_order[k][1]==word_order[k+1][1]:\n",
    "        num+=1\n",
    "    else:\n",
    "        break\n",
    "for i in range(1,num):\n",
    "    print(f'{i}.{word_order[i][0]}:{word_order[i][1]}')"
   ]
  },
  {
   "cell_type": "code",
   "execution_count": 172,
   "id": "5ba0ca20",
   "metadata": {},
   "outputs": [
    {
     "name": "stdout",
     "output_type": "stream",
     "text": [
      "<style> th { padding: 5px; border: solid 1px blue; } </style>\n",
      "<table>\n",
      "<caption>水調歌頭 蘇軾</caption>\n",
      "<tr></tr>\n",
      "<th>明</th><th>月</th><th>幾</th><th>時</th><th>有</th><th>？</th></tr>\n",
      "<th>把</th><th>酒</th><th>問</th><th>青</th><th>天</th><th>。</th></tr>\n",
      "<th>不</th><th>知</th><th>天</th><th>上</th><th>宮</th><th>闕</th><th>，</th></tr>\n",
      "<th>今</th><th>夕</th><th>是</th><th>何</th><th>年</th><th>。</th></tr>\n",
      "<th>我</th><th>欲</th><th>乘</th><th>風</th><th>歸</th><th>去</th><th>，</th></tr>\n",
      "<th>又</th><th>恐</th><th>瓊</th><th>樓</th><th>玉</th><th>宇</th><th>，</th></tr>\n",
      "<th>高</th><th>處</th><th>不</th><th>勝</th><th>寒</th><th>。</th></tr>\n",
      "<th>起</th><th>舞</th><th>弄</th><th>清</th><th>影</th><th>，</th></tr>\n",
      "<th>何</th><th>似</th><th>在</th><th>人</th><th>間</th><th>？</th>\n"
     ]
    }
   ],
   "source": [
    "art='''水調歌頭 蘇軾\n",
    "明月幾時有？\n",
    "把酒問青天。\n",
    "不知天上宮闕，\n",
    "今夕是何年。\n",
    "我欲乘風歸去，\n",
    "又恐瓊樓玉宇，\n",
    "高處不勝寒。\n",
    "起舞弄清影，\n",
    "何似在人間？'''\n",
    "\n",
    "msg='<style> th { padding: 5px; border: solid 1px blue; } </style>\\n'\n",
    "\n",
    "\n",
    "x=len(art)\n",
    "\n",
    "index=7\n",
    "\n",
    "msg+='<table>\\n'\n",
    "\n",
    "msg+=f'<caption>{art[:7]}</caption>\\n'\n",
    "\n",
    "msg+='<tr>' \n",
    "for row in range(1,len(art)):\n",
    "    if index < len(art):\n",
    "        if art[index]=='\\n':\n",
    "            msg+='</tr>\\n'\n",
    "            index+=1\n",
    "        else:\n",
    "            msg+=f\"<th>{art[index]}</th>\"\n",
    "            index+=1\n",
    "print(msg)\n",
    "fname = \"112450053.html\"\n",
    "with open(fname, \"w\") as fp:\n",
    "    fp.write(msg)\n",
    "    "
   ]
  },
  {
   "cell_type": "code",
   "execution_count": null,
   "id": "ece60b30",
   "metadata": {},
   "outputs": [],
   "source": []
  }
 ],
 "metadata": {
  "kernelspec": {
   "display_name": "Python 3",
   "language": "python",
   "name": "python3"
  },
  "language_info": {
   "codemirror_mode": {
    "name": "ipython",
    "version": 3
   },
   "file_extension": ".py",
   "mimetype": "text/x-python",
   "name": "python",
   "nbconvert_exporter": "python",
   "pygments_lexer": "ipython3",
   "version": "3.8.8"
  }
 },
 "nbformat": 4,
 "nbformat_minor": 5
}
