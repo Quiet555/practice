{
 "cells": [
  {
   "cell_type": "code",
   "execution_count": 10,
   "id": "232fe390-7e13-4896-8f26-e5b35d624437",
   "metadata": {},
   "outputs": [
    {
     "name": "stdin",
     "output_type": "stream",
     "text": [
      "請輸入一個整數: 6\n"
     ]
    },
    {
     "name": "stdout",
     "output_type": "stream",
     "text": [
      "6 是正的偶數\n"
     ]
    }
   ],
   "source": [
    "num = int(input('請輸入一個整數:'))\n",
    "if num <0:\n",
    "    po='負'\n",
    "elif num>0:\n",
    "    po='正'\n",
    "else:\n",
    "    po='不正不負'\n",
    "\n",
    "if num%2 == 0:\n",
    "    od='偶數'\n",
    "elif num%2 != 0:\n",
    "    od='奇數'\n",
    "\n",
    "print(f'{num} 是{po}的{od}')"
   ]
  },
  {
   "cell_type": "code",
   "execution_count": 11,
   "id": "5e7d8ff6-b0a5-4904-9ba7-4cca65bd8c00",
   "metadata": {},
   "outputs": [
    {
     "name": "stdin",
     "output_type": "stream",
     "text": [
      "整數1: 33\n",
      "整數2: 56\n",
      "整數3: 98\n",
      "整數4: 25\n",
      "整數5: 13\n"
     ]
    },
    {
     "name": "stdout",
     "output_type": "stream",
     "text": [
      "2個偶數:56 98 \n",
      "3個奇數:33 25 13 \n"
     ]
    }
   ],
   "source": [
    "nums=[0]*5\n",
    "i=0\n",
    "even,odd=0,0\n",
    "evstr='偶數:'\n",
    "odstr='奇數:'\n",
    "\n",
    "while(i<5):\n",
    "    nums[i]=int(input(f'整數{i+1}:'))\n",
    "    numstr=str(nums[i])\n",
    "\n",
    "    if nums[i]%2 == 0:\n",
    "        even+=1\n",
    "        evstr= evstr + numstr +' '    \n",
    "    else :\n",
    "        odd+=1\n",
    "        odstr= odstr + numstr +' '\n",
    "    i+=1\n",
    "\n",
    "print(f'{even}個{evstr}')\n",
    "print(f'{odd}個{odstr}')"
   ]
  },
  {
   "cell_type": "code",
   "execution_count": 18,
   "id": "5c770a19-3762-46cf-a917-452dbcad7025",
   "metadata": {},
   "outputs": [
    {
     "ename": "SyntaxError",
     "evalue": "invalid syntax (2557530274.py, line 13)",
     "output_type": "error",
     "traceback": [
      "\u001b[1;36m  Cell \u001b[1;32mIn[18], line 13\u001b[1;36m\u001b[0m\n\u001b[1;33m    match (flag):\u001b[0m\n\u001b[1;37m                 ^\u001b[0m\n\u001b[1;31mSyntaxError\u001b[0m\u001b[1;31m:\u001b[0m invalid syntax\n"
     ]
    }
   ],
   "source": [
    "def temp():\n",
    "    cel = int(input('請輸入攝氏溫度:'))\n",
    "    fah = round(((9/5)*cel)+32,2)\n",
    "    print(f'約等於華氏 {fah} 度。')\n",
    "def BMI():\n",
    "    hig = int(input('請輸入身高(cm):')) / 100\n",
    "    weg = int(input('請輸入體重(kg):'))\n",
    "    bmi = round(weg / hig**2,1)\n",
    "    print('BMI = ',bmi)\n",
    "    \n",
    "flag = input('1)攝氏到華氏的溫度轉換\\n2)計算 BMI\\n你的選擇是:')\n",
    "\n",
    "match flag:\n",
    "    case '1':\n",
    "        temp()\n",
    "    case '2':\n",
    "        BMI()"
   ]
  }
 ],
 "metadata": {
  "kernelspec": {
   "display_name": "Python 3 (ipykernel)",
   "language": "python",
   "name": "python3"
  },
  "language_info": {
   "codemirror_mode": {
    "name": "ipython",
    "version": 3
   },
   "file_extension": ".py",
   "mimetype": "text/x-python",
   "name": "python",
   "nbconvert_exporter": "python",
   "pygments_lexer": "ipython3",
   "version": "3.8.18"
  }
 },
 "nbformat": 4,
 "nbformat_minor": 5
}
